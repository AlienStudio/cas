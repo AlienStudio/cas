{
 "cells": [
  {
   "cell_type": "code",
   "execution_count": 34,
   "metadata": {
    "scrolled": true
   },
   "outputs": [],
   "source": [
    "import random\n",
    "import numpy as np\n",
    "# import tensorflow\n",
    "import matplotlib.pyplot as plt\n",
    "import pandas as pd"
   ]
  },
  {
   "cell_type": "code",
   "execution_count": 35,
   "metadata": {
    "scrolled": true
   },
   "outputs": [],
   "source": [
    "class Student:\n",
    "    def __init__(self, choice):\n",
    "        self.choice = choice\n",
    "        self.policy_class = 0\n",
    "\n",
    "\n",
    "class PolicyClassroom:\n",
    "    def __init__(self, class_num):\n",
    "        self.student = np.zeros(20)\n",
    "        self.class_num = class_num\n",
    "        self.diversity_list = []\n",
    "        \n",
    "        \n",
    "    def add_student(self, choice):\n",
    "        self.student[choice] += 1\n",
    "    \n",
    "    def diversity(self):\n",
    "        sum = 0.0\n",
    "        for choice in self.student:\n",
    "            sum += choice\n",
    "        diversity = 0.0\n",
    "        for choice in self.student:\n",
    "            diversity += choice ** 2 / sum ** 2\n",
    "        self.diversity_list.append(diversity)\n",
    "        return diversity\n",
    "        \n",
    "\n",
    "class LearningClassroom:\n",
    "    def __init__(self):\n",
    "        pass"
   ]
  },
  {
   "cell_type": "code",
   "execution_count": 36,
   "metadata": {
    "scrolled": false
   },
   "outputs": [
    {
     "name": "stdout",
     "output_type": "stream",
     "text": [
      "1.0\n",
      "0.5\n",
      "0.5555555555555556\n",
      "0.375\n",
      "0.28\n",
      "0.2222222222222222\n",
      "0.18367346938775508\n",
      "0.1875\n",
      "0.18518518518518517\n",
      "0.16\n",
      "0.17355371900826447\n",
      "0.18055555555555558\n",
      "0.15976331360946747\n",
      "0.17346938775510204\n",
      "0.15555555555555556\n",
      "0.1484375\n",
      "0.13494809688581313\n",
      "0.12345679012345678\n",
      "0.11911357340720222\n",
      "0.11000000000000001\n",
      "0.10204081632653059\n",
      "0.09917355371900827\n",
      "0.09262759924385633\n",
      "0.08680555555555555\n",
      "0.0848\n",
      "0.07988165680473373\n",
      "0.07544581618655691\n",
      "0.07142857142857144\n",
      "0.07015457788347204\n",
      "0.06666666666666667\n",
      "0.06555671175858481\n",
      "0.06640625\n",
      "0.06519742883379247\n",
      "0.0657439446366782\n",
      "0.06448979591836734\n",
      "0.06327160493827161\n",
      "0.0635500365230095\n",
      "0.06371191135734072\n",
      "0.06508875739644972\n"
     ]
    },
    {
     "data": {
      "image/png": "[encoded data removed]",
      "text/plain": [
       "<Figure size 432x288 with 1 Axes>"
      ]
     },
     "metadata": {},
     "output_type": "display_data"
    },
    {
     "name": "stdout",
     "output_type": "stream",
     "text": [
      "      0\n",
      "0   1.0\n",
      "1   4.0\n",
      "2   3.0\n",
      "3   2.0\n",
      "4   1.0\n",
      "5   3.0\n",
      "6   2.0\n",
      "7   2.0\n",
      "8   1.0\n",
      "9   3.0\n",
      "10  2.0\n",
      "11  1.0\n",
      "12  2.0\n",
      "13  3.0\n",
      "14  0.0\n",
      "15  2.0\n",
      "16  1.0\n",
      "17  1.0\n",
      "18  4.0\n",
      "19  1.0\n"
     ]
    }
   ],
   "source": [
    "class1 = PolicyClassroom(1)\n",
    "diversity_list = []\n",
    "choice_list = np.zeros(20)\n",
    "for i in range(1, 40):\n",
    "    # choice = random.randint(1, 20) - 1\n",
    "    choice = random.randint(0, 19)\n",
    "    choice_list[choice] += 1\n",
    "    class1.add_student(choice)\n",
    "    diversity_list.append(class1.diversity())\n",
    "    print(class1.diversity())\n",
    "\n",
    "# add a plt for choice diversity\n",
    "plt.plot(np.linspace(0, 39, 39), diversity_list)\n",
    "plt.title('Diversity')\n",
    "\n",
    "# labels = 'Frogs', 'Hogs', 'Dogs', 'Logs'\n",
    "\n",
    "plt.subplot(2,1,2)\n",
    "plt.pie(choice_list, autopct='%1.1f%%',\n",
    "        shadow=True, startangle=90)\n",
    "plt.axis('equal')\n",
    "\n",
    "plt.show()\n",
    "\n",
    "df = pd.DataFrame(choice_list)\n",
    "print(df)"
   ]
  },
  {
   "cell_type": "code",
   "execution_count": 37,
   "metadata": {
    "scrolled": true
   },
   "outputs": [],
   "source": [
    "class QLearning:\n",
    "\n",
    "    def __init__(self):\n",
    "        pass\n"
   ]
  },
  {
   "cell_type": "code",
   "execution_count": 38,
   "metadata": {
    "scrolled": true
   },
   "outputs": [
    {
     "name": "stdout",
     "output_type": "stream",
     "text": [
      "所有排列:\n",
      "[(1, 2, 3), (1, 2, 4), (1, 2, 5), (1, 2, 6), (1, 3, 4), (1, 3, 5), (1, 3, 6), (1, 4, 5), (1, 4, 6), (1, 5, 6), (2, 3, 4), (2, 3, 5), (2, 3, 6), (2, 4, 5), (2, 4, 6), (2, 5, 6), (3, 4, 5), (3, 4, 6), (3, 5, 6), (4, 5, 6)]\n"
     ]
    }
   ],
   "source": [
    "from itertools import combinations\n",
    "\n",
    "combins = [c for c in combinations(range(1, 7), 3)]\n",
    "print(\"所有排列:\")\n",
    "print(combins)\n",
    "\n",
    "\n",
    "def transform(student):\n",
    "    return combins.index(student.choice) + 1\n",
    "\n",
    "# s1 = Student(choice=(1,2,3))\n",
    "# transform(s1)"
   ]
  },
  {
   "cell_type": "code",
   "execution_count": 39,
   "metadata": {
    "scrolled": true
   },
   "outputs": [
    {
     "data": {
      "text/plain": [
       "[<__main__.PolicyClassroom at 0x7f7f4e09af98>,\n",
       " <__main__.PolicyClassroom at 0x7f7f4e09ad30>,\n",
       " <__main__.PolicyClassroom at 0x7f7f4e09abe0>,\n",
       " <__main__.PolicyClassroom at 0x7f7f4e09a320>,\n",
       " <__main__.PolicyClassroom at 0x7f7f4e09ac50>,\n",
       " <__main__.PolicyClassroom at 0x7f7f4e09ab70>,\n",
       " <__main__.PolicyClassroom at 0x7f7f4e09a0f0>,\n",
       " <__main__.PolicyClassroom at 0x7f7f4e09a630>,\n",
       " <__main__.PolicyClassroom at 0x7f7f4e09a860>,\n",
       " <__main__.PolicyClassroom at 0x7f7f4e09a7f0>,\n",
       " <__main__.PolicyClassroom at 0x7f7f4e09a780>,\n",
       " <__main__.PolicyClassroom at 0x7f7f4e09aa90>,\n",
       " <__main__.PolicyClassroom at 0x7f7f4e09a2b0>]"
      ]
     },
     "execution_count": 39,
     "metadata": {},
     "output_type": "execute_result"
    }
   ],
   "source": [
    "def newPolicyClassroom(classNum):\n",
    "    return PolicyClassroom(classNum)\n",
    "\n",
    "def newPolicyClassrooms(totalNum):\n",
    "    list = []\n",
    "    for i in range(1,totalNum+1):\n",
    "        list.append(newPolicyClassroom(i))\n",
    "    return list\n",
    "        \n",
    "classroom_list = [classroom for classroom in newPolicyClassrooms(13)]\n",
    "classroom_list"
   ]
  },
  {
   "cell_type": "code",
   "execution_count": 40,
   "metadata": {
    "scrolled": true
   },
   "outputs": [],
   "source": [
    "def generateRandomStudent():\n",
    "    choice = random.randint(1,21)\n",
    "    # 1 <= choice <= 20\n",
    "    return choice"
   ]
  },
  {
   "cell_type": "code",
   "execution_count": 41,
   "metadata": {
    "scrolled": true
   },
   "outputs": [],
   "source": [
    "def generateRandomStudents(totalNum):\n",
    "    list = []\n",
    "    for num in range(1,totalNum+1):\n",
    "        list.append(generateRandomStudent())\n",
    "    return list"
   ]
  },
  {
   "cell_type": "code",
   "execution_count": null,
   "metadata": {
    "scrolled": false
   },
   "outputs": [],
   "source": []
  },
  {
   "cell_type": "code",
   "execution_count": 42,
   "metadata": {
    "scrolled": true
   },
   "outputs": [],
   "source": [
    "def addStudentToPolicyClassroom(student_list):\n",
    "    for student in student_list:\n",
    "        gotoClassroomNum = random.randint(1,13)\n",
    "        print(gotoClassroomNum)\n",
    "        # 1 <= gotoClassroomNum <= 13\n",
    "        classroom_list[gotoClassroomNum-1].add_student(student-1)\n",
    "        classroom_list[gotoClassroomNum-1].diversity()"
   ]
  },
  {
   "cell_type": "code",
   "execution_count": 43,
   "metadata": {
    "scrolled": false
   },
   "outputs": [
    {
     "name": "stdout",
     "output_type": "stream",
     "text": [
      "11\n",
      "12\n",
      "7\n",
      "7\n",
      "8\n",
      "7\n",
      "9\n",
      "13\n",
      "1\n",
      "5\n",
      "7\n",
      "8\n",
      "9\n",
      "10\n",
      "13\n",
      "1\n",
      "13\n",
      "5\n",
      "2\n",
      "6\n",
      "8\n",
      "7\n",
      "9\n",
      "4\n",
      "2\n",
      "11\n",
      "5\n",
      "1\n",
      "2\n",
      "12\n",
      "2\n",
      "4\n",
      "2\n",
      "3\n",
      "8\n",
      "11\n",
      "11\n",
      "7\n",
      "3\n",
      "12\n"
     ]
    },
    {
     "ename": "IndexError",
     "evalue": "index 20 is out of bounds for axis 0 with size 20",
     "output_type": "error",
     "traceback": [
      "\u001b[0;31m---------------------------------------------------------------------------\u001b[0m",
      "\u001b[0;31mIndexError\u001b[0m                                Traceback (most recent call last)",
      "\u001b[0;32m<ipython-input-43-e670bd1a5629>\u001b[0m in \u001b[0;36m<module>\u001b[0;34m()\u001b[0m\n\u001b[1;32m      1\u001b[0m \u001b[0mstudents\u001b[0m \u001b[0;34m=\u001b[0m \u001b[0mgenerateRandomStudents\u001b[0m\u001b[0;34m(\u001b[0m\u001b[0;36m500\u001b[0m\u001b[0;34m)\u001b[0m\u001b[0;34m\u001b[0m\u001b[0m\n\u001b[0;32m----> 2\u001b[0;31m \u001b[0maddStudentToPolicyClassroom\u001b[0m\u001b[0;34m(\u001b[0m\u001b[0mstudents\u001b[0m\u001b[0;34m)\u001b[0m\u001b[0;34m\u001b[0m\u001b[0m\n\u001b[0m",
      "\u001b[0;32m<ipython-input-42-34c8c246a31c>\u001b[0m in \u001b[0;36maddStudentToPolicyClassroom\u001b[0;34m(student_list)\u001b[0m\n\u001b[1;32m      4\u001b[0m         \u001b[0mprint\u001b[0m\u001b[0;34m(\u001b[0m\u001b[0mgotoClassroomNum\u001b[0m\u001b[0;34m)\u001b[0m\u001b[0;34m\u001b[0m\u001b[0m\n\u001b[1;32m      5\u001b[0m         \u001b[0;31m# 1 <= gotoClassroomNum <= 13\u001b[0m\u001b[0;34m\u001b[0m\u001b[0;34m\u001b[0m\u001b[0m\n\u001b[0;32m----> 6\u001b[0;31m         \u001b[0mclassroom_list\u001b[0m\u001b[0;34m[\u001b[0m\u001b[0mgotoClassroomNum\u001b[0m\u001b[0;34m-\u001b[0m\u001b[0;36m1\u001b[0m\u001b[0;34m]\u001b[0m\u001b[0;34m.\u001b[0m\u001b[0madd_student\u001b[0m\u001b[0;34m(\u001b[0m\u001b[0mstudent\u001b[0m\u001b[0;34m-\u001b[0m\u001b[0;36m1\u001b[0m\u001b[0;34m)\u001b[0m\u001b[0;34m\u001b[0m\u001b[0m\n\u001b[0m\u001b[1;32m      7\u001b[0m         \u001b[0mclassroom_list\u001b[0m\u001b[0;34m[\u001b[0m\u001b[0mgotoClassroomNum\u001b[0m\u001b[0;34m-\u001b[0m\u001b[0;36m1\u001b[0m\u001b[0;34m]\u001b[0m\u001b[0;34m.\u001b[0m\u001b[0mdiversity\u001b[0m\u001b[0;34m(\u001b[0m\u001b[0;34m)\u001b[0m\u001b[0;34m\u001b[0m\u001b[0m\n",
      "\u001b[0;32m<ipython-input-35-f1bf1a5f9ab8>\u001b[0m in \u001b[0;36madd_student\u001b[0;34m(self, choice)\u001b[0m\n\u001b[1;32m     13\u001b[0m \u001b[0;34m\u001b[0m\u001b[0m\n\u001b[1;32m     14\u001b[0m     \u001b[0;32mdef\u001b[0m \u001b[0madd_student\u001b[0m\u001b[0;34m(\u001b[0m\u001b[0mself\u001b[0m\u001b[0;34m,\u001b[0m \u001b[0mchoice\u001b[0m\u001b[0;34m)\u001b[0m\u001b[0;34m:\u001b[0m\u001b[0;34m\u001b[0m\u001b[0m\n\u001b[0;32m---> 15\u001b[0;31m         \u001b[0mself\u001b[0m\u001b[0;34m.\u001b[0m\u001b[0mstudent\u001b[0m\u001b[0;34m[\u001b[0m\u001b[0mchoice\u001b[0m\u001b[0;34m]\u001b[0m \u001b[0;34m+=\u001b[0m \u001b[0;36m1\u001b[0m\u001b[0;34m\u001b[0m\u001b[0m\n\u001b[0m\u001b[1;32m     16\u001b[0m \u001b[0;34m\u001b[0m\u001b[0m\n\u001b[1;32m     17\u001b[0m     \u001b[0;32mdef\u001b[0m \u001b[0mdiversity\u001b[0m\u001b[0;34m(\u001b[0m\u001b[0mself\u001b[0m\u001b[0;34m)\u001b[0m\u001b[0;34m:\u001b[0m\u001b[0;34m\u001b[0m\u001b[0m\n",
      "\u001b[0;31mIndexError\u001b[0m: index 20 is out of bounds for axis 0 with size 20"
     ]
    }
   ],
   "source": [
    "students = generateRandomStudents(500)\n",
    "addStudentToPolicyClassroom(students)"
   ]
  },
  {
   "cell_type": "code",
   "execution_count": null,
   "metadata": {
    "scrolled": true
   },
   "outputs": [],
   "source": [
    "for c in classroom_list:\n",
    "    print(c.diversity())"
   ]
  },
  {
   "cell_type": "code",
   "execution_count": null,
   "metadata": {
    "scrolled": true
   },
   "outputs": [],
   "source": []
  }
 ],
 "metadata": {
  "kernelspec": {
   "display_name": "Python 3",
   "language": "python",
   "name": "python3"
  },
  "language_info": {
   "codemirror_mode": {
    "name": "ipython",
    "version": 3
   },
   "file_extension": ".py",
   "mimetype": "text/x-python",
   "name": "python",
   "nbconvert_exporter": "python",
   "pygments_lexer": "ipython3",
   "version": "3.5.2"
  }
 },
 "nbformat": 4,
 "nbformat_minor": 2
}
