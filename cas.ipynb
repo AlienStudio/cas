{
 "cells": [
  {
   "cell_type": "code",
   "execution_count": 1,
   "metadata": {
    "collapsed": true
   },
   "outputs": [],
   "source": [
    "import random\n",
    "import numpy as np\n",
    "import tensorflow\n",
    "import matplotlib.pyplot as plt\n",
    "import pandas as pd"
   ]
  },
  {
   "cell_type": "code",
   "execution_count": 2,
   "metadata": {},
   "outputs": [],
   "source": [
    "class Student:\n",
    "    def __init__(self, choice):\n",
    "        self.choice = choice\n",
    "        self.policy_class = 0\n",
    "\n",
    "\n",
    "class PolicyClassroom:\n",
    "    def __init__(self, class_num):\n",
    "        self.student = np.zeros(20)\n",
    "        self.class_num = class_num\n",
    "\n",
    "    def add_student(self, choice):\n",
    "        self.student[choice] += 1\n",
    "\n",
    "    def diversity(self):\n",
    "        sum = 0.0\n",
    "        for choice in self.student:\n",
    "            sum += choice\n",
    "        diversity = 0.0\n",
    "        for choice in self.student:\n",
    "            diversity += choice ** 2 / sum ** 2\n",
    "        return diversity * 10000\n",
    "\n",
    "class LearningClassroom:\n",
    "    def __init__(self):\n",
    "        pass"
   ]
  },
  {
   "cell_type": "code",
   "execution_count": 3,
   "metadata": {
    "collapsed": true
   },
   "outputs": [
    {
     "name": "stdout",
     "output_type": "stream",
     "text": [
      "10000.0\n5000.0\n3333.33333333\n2500.0\n2000.0\n1666.66666667\n1428.57142857\n1562.5\n1358.02469136\n1200.0\n1239.66942149\n1388.88888889\n1360.94674556\n1326.53061224\n1377.77777778\n1250.0\n1141.86851211\n1111.11111111\n1080.33240997\n1100.0\n1020.40816327\n950.41322314\n1001.89035917\n937.5\n912.0\n887.573964497\n891.632373114\n918.367346939\n868.014268728\n911.111111111\n884.495317378\n859.375\n853.994490358\n865.051903114\n840.816326531\n817.901234568\n840.029218408\n803.324099723\n769.230769231\n"
     ]
    },
    {
     "data": {
      "image/png": "[encoded data removed]",
      "text/plain": [
       "<matplotlib.figure.Figure at 0x19e3addf748>"
      ]
     },
     "metadata": {},
     "output_type": "display_data"
    },
    {
     "name": "stdout",
     "output_type": "stream",
     "text": [
      "      0\n0   2.0\n1   0.0\n2   2.0\n3   0.0\n4   5.0\n5   2.0\n6   3.0\n7   1.0\n8   3.0\n9   1.0\n10  0.0\n11  1.0\n12  1.0\n13  2.0\n14  2.0\n15  2.0\n16  2.0\n17  1.0\n18  4.0\n19  5.0\n"
     ]
    }
   ],
   "source": [
    "class1 = PolicyClassroom(1)\n",
    "diversity_list = []\n",
    "choice_list = np.zeros(20)\n",
    "for i in range(1, 40):\n",
    "    # choice = random.randint(1, 20) - 1\n",
    "    choice = random.randint(0, 19)\n",
    "    choice_list[choice] += 1\n",
    "    class1.add_student(choice)\n",
    "    diversity_list.append(class1.diversity())\n",
    "    print(class1.diversity())\n",
    "\n",
    "plt.subplot(2,1,1)\n",
    "# add a plt for choice diversity\n",
    "plt.plot(np.linspace(0, 39, 39), diversity_list)\n",
    "plt.title('Diversity')\n",
    "\n",
    "# labels = 'Frogs', 'Hogs', 'Dogs', 'Logs'\n",
    "\n",
    "plt.subplot(2,1,2)\n",
    "plt.pie(choice_list, autopct='%1.1f%%',\n",
    "        shadow=True, startangle=90)\n",
    "plt.axis('equal')\n",
    "\n",
    "plt.show()\n",
    "\n",
    "df = pd.DataFrame(choice_list)\n",
    "print(df)"
   ]
  },
  {
   "cell_type": "code",
   "execution_count": 4,
   "metadata": {},
   "outputs": [],
   "source": [
    "class QLearning:\n",
    "\n",
    "    def __init__(self):\n",
    "        pass\n"
   ]
  },
  {
   "cell_type": "code",
   "execution_count": 18,
   "metadata": {},
   "outputs": [
    {
     "name": "stdout",
     "output_type": "stream",
     "text": [
      "所有排列:\n[(1, 2, 3), (1, 2, 4), (1, 2, 5), (1, 2, 6), (1, 3, 4), (1, 3, 5), (1, 3, 6), (1, 4, 5), (1, 4, 6), (1, 5, 6), (2, 3, 4), (2, 3, 5), (2, 3, 6), (2, 4, 5), (2, 4, 6), (2, 5, 6), (3, 4, 5), (3, 4, 6), (3, 5, 6), (4, 5, 6)]\n"
     ]
    }
   ],
   "source": [
    "from itertools import combinations\n",
    "\n",
    "combins = [c for c in combinations(range(1, 7), 3)]\n",
    "print(\"所有排列:\")\n",
    "print(combins)\n",
    "\n",
    "\n",
    "def transform(student):\n",
    "    return combins.index(student.choice) + 1\n",
    "\n",
    "# s1 = Student(choice=(1,2,3))\n",
    "# transform(s1)\n"
   ]
  },
  {
   "cell_type": "code",
   "execution_count": null,
   "metadata": {},
   "outputs": [],
   "source": []
  }
 ],
 "metadata": {
  "kernelspec": {
   "display_name": "Python 2",
   "language": "python",
   "name": "python2"
  },
  "language_info": {
   "codemirror_mode": {
    "name": "ipython",
    "version": 2
   },
   "file_extension": ".py",
   "mimetype": "text/x-python",
   "name": "python",
   "nbconvert_exporter": "python",
   "pygments_lexer": "ipython2",
   "version": "2.7.6"
  }
 },
 "nbformat": 4,
 "nbformat_minor": 0
}
